{
 "cells": [
  {
   "cell_type": "markdown",
   "metadata": {},
   "source": [
    "# bqplot https://github.com/bloomberg/bqplot\n",
    "\n",
    "## A Jupyter - d3.js bridge\n",
    "\n",
    "bqplot is a jupyter interactive widget library bringing d3.js visualization to the Jupyter notebook.\n",
    "\n",
    "- Apache Licensed\n",
    "\n",
    "bqplot implements the abstractions of Wilkinson’s “The Grammar of Graphics” as interactive Jupyter widgets.\n",
    "\n",
    "bqplot provides both\n",
    "-\thigh-level plotting procedures with relevant defaults for common chart types,\n",
    "-\tlower-level descriptions of data visualizations meant for complex interactive visualization dashboards and applications involving mouse interactions and user-provided Python callbacks.\n",
    "\n",
    "**Installation:**\n",
    "\n",
    "```bash\n",
    "conda install -c conda-forge bqplot\n",
    "```"
   ]
  },
  {
   "cell_type": "code",
   "execution_count": 28,
   "metadata": {
    "collapsed": true
   },
   "outputs": [],
   "source": [
    "from __future__ import print_function\n",
    "from IPython.display import display\n",
    "from ipywidgets import *\n",
    "from traitlets import *\n",
    "\n",
    "import numpy as np\n",
    "import pandas as pd\n",
    "import bqplot as bq\n",
    "import datetime as dt"
   ]
  },
  {
   "cell_type": "code",
   "execution_count": 29,
   "metadata": {
    "collapsed": false
   },
   "outputs": [],
   "source": [
    "np.random.seed(0)\n",
    "size = 100\n",
    "y_data = np.cumsum(np.random.randn(size) * 100.0)\n",
    "y_data_2 = np.cumsum(np.random.randn(size))\n",
    "y_data_3 = np.cumsum(np.random.randn(size) * 100.)\n",
    "\n",
    "x = np.linspace(0.0, 10.0, size)\n",
    "\n",
    "price_data = pd.DataFrame(np.cumsum(np.random.randn(150, 2).dot([[0.5, 0.8], [0.8, 1.0]]), axis=0) + 100,\n",
    "                          columns=['Security 1', 'Security 2'],\n",
    "                          index=pd.date_range(start='01-01-2007', periods=150))\n",
    "\n",
    "symbol = 'Security 1'\n",
    "dates_all = price_data.index.values\n",
    "final_prices = price_data[symbol].values.flatten()"
   ]
  },
  {
   "cell_type": "markdown",
   "metadata": {},
   "source": [
    "# A simple plot with the pyplot API"
   ]
  },
  {
   "cell_type": "code",
   "execution_count": 30,
   "metadata": {
    "collapsed": true
   },
   "outputs": [],
   "source": [
    "from bqplot import pyplot as plt"
   ]
  },
  {
   "cell_type": "code",
   "execution_count": 31,
   "metadata": {
    "collapsed": true
   },
   "outputs": [
    {
     "data": {
      "application/vnd.jupyter.widget": "67e6e8cf36614d668b2a25be4c1dc780"
     },
     "metadata": {},
     "output_type": "display_data"
    }
   ],
   "source": [
    "plt.figure(1)\n",
    "n = 100\n",
    "plt.plot(np.linspace(0.0, 10.0, n), np.cumsum(np.random.randn(n)), \n",
    "         axes_options={'y': {'grid_lines': 'dashed'}})\n",
    "plt.show()"
   ]
  },
  {
   "cell_type": "markdown",
   "metadata": {},
   "source": [
    "### Scatter Plot"
   ]
  },
  {
   "cell_type": "code",
   "execution_count": 32,
   "metadata": {
    "collapsed": true
   },
   "outputs": [
    {
     "data": {
      "application/vnd.jupyter.widget": "5f7a2b3cca8c4f2f8d45c384f0211964"
     },
     "metadata": {},
     "output_type": "display_data"
    }
   ],
   "source": [
    "plt.figure(title='Scatter Plot with colors')\n",
    "plt.scatter(y_data_2, y_data_3, color=y_data)\n",
    "plt.show()"
   ]
  },
  {
   "cell_type": "markdown",
   "metadata": {},
   "source": [
    "### Histogram"
   ]
  },
  {
   "cell_type": "code",
   "execution_count": 6,
   "metadata": {
    "collapsed": true
   },
   "outputs": [
    {
     "data": {
      "application/vnd.jupyter.widget": "79459624267a4897bc0926d96f87b078"
     },
     "metadata": {},
     "output_type": "display_data"
    }
   ],
   "source": [
    "plt.figure()\n",
    "plt.hist(y_data, colors=['OrangeRed'])\n",
    "plt.show()"
   ]
  },
  {
   "cell_type": "markdown",
   "metadata": {},
   "source": [
    "# bqplot API: an implementation of the grammar of graphics"
   ]
  },
  {
   "cell_type": "code",
   "execution_count": 33,
   "metadata": {
    "collapsed": true
   },
   "outputs": [],
   "source": [
    "size = 100\n",
    "x_data = range(size)\n",
    "np.random.seed(0)\n",
    "y_data = np.cumsum(np.random.randn(size) * 100.0)\n",
    "y_data_2 = np.cumsum(np.random.randn(size))\n",
    "y_data_3 = np.cumsum(np.random.randn(size) * 100.)"
   ]
  },
  {
   "cell_type": "code",
   "execution_count": 34,
   "metadata": {
    "collapsed": true
   },
   "outputs": [],
   "source": [
    "sc_ord = bq.OrdinalScale()\n",
    "sc_y = bq.LinearScale()\n",
    "sc_y_2 = bq.LinearScale()\n",
    "\n",
    "ord_ax = bq.Axis(label='Test X', scale=sc_ord, tick_format='0.0f', grid_lines='none')\n",
    "y_ax = bq.Axis(label='Test Y', scale=sc_y, \n",
    "               orientation='vertical', tick_format='0.2f', \n",
    "               grid_lines='solid')\n",
    "y_ax_2 = bq.Axis(label='Test Y 2', scale=sc_y_2, \n",
    "                 orientation='vertical', side='right', \n",
    "                 tick_format='0.0f', grid_lines='solid')"
   ]
  },
  {
   "cell_type": "code",
   "execution_count": 35,
   "metadata": {
    "collapsed": false
   },
   "outputs": [
    {
     "data": {
      "application/vnd.jupyter.widget": "e1fc5c20557c45fc85a37f8e1af2cebb"
     },
     "metadata": {},
     "output_type": "display_data"
    }
   ],
   "source": [
    "line_chart = bq.Lines(x=x_data[:10], y = [y_data[:10], y_data_2[:10] * 100, y_data_3[:10]],\n",
    "                      scales={'x': sc_ord, 'y': sc_y},\n",
    "                      labels=['Line1', 'Line2', 'Line3'], \n",
    "                      display_legend=True)\n",
    "\n",
    "bar_chart = bq.Bars(x=x_data[:10], \n",
    "                    y=[y_data[:10], y_data_2[:10] * 100, y_data_3[:10]], \n",
    "                    scales={'x': sc_ord, 'y': sc_y_2},\n",
    "                    labels=['Bar1', 'Bar2', 'Bar3'],\n",
    "                    display_legend=True)\n",
    "\n",
    "fig = bq.Figure(axes=[ord_ax, y_ax],  marks=[bar_chart, line_chart], legend_location = 'top-left')\n",
    "\n",
    "# the line does not have a Y value set. So only the bars will be displayed\n",
    "display(fig)"
   ]
  },
  {
   "cell_type": "markdown",
   "metadata": {},
   "source": [
    "# Every component of the figure is an independent widget"
   ]
  },
  {
   "cell_type": "code",
   "execution_count": 36,
   "metadata": {
    "collapsed": true
   },
   "outputs": [
    {
     "data": {
      "application/vnd.jupyter.widget": "02385a8670a64668ba8c91ce524cece5"
     },
     "metadata": {},
     "output_type": "display_data"
    }
   ],
   "source": [
    "xs = bq.LinearScale()\n",
    "ys = bq.LinearScale()\n",
    "x = np.arange(100)\n",
    "y = np.cumsum(np.random.randn(2, 100), axis=1) #two random walks\n",
    "\n",
    "line = bq.Lines(x=x, y=y, scales={'x': xs, 'y': ys}, colors=['red', 'green'])\n",
    "xax = bq.Axis(scale=xs, label='x', grid_lines='solid')\n",
    "yax = bq.Axis(scale=ys, orientation='vertical', tick_format='0.2f', label='y', grid_lines='solid')\n",
    "\n",
    "fig = bq.Figure(marks=[line], axes=[xax, yax], animation_duration=1000)\n",
    "display(fig)"
   ]
  },
  {
   "cell_type": "code",
   "execution_count": 41,
   "metadata": {
    "collapsed": true
   },
   "outputs": [],
   "source": [
    "# update data of the line mark\n",
    "line.y = np.cumsum(np.random.randn(2, 100), axis=1)"
   ]
  },
  {
   "cell_type": "code",
   "execution_count": 42,
   "metadata": {
    "collapsed": true
   },
   "outputs": [
    {
     "data": {
      "application/vnd.jupyter.widget": "fd173964a0d94b5c8c515c7e9a47876d"
     },
     "metadata": {},
     "output_type": "display_data"
    }
   ],
   "source": [
    "xs = bq.LinearScale()\n",
    "ys = bq.LinearScale()\n",
    "x, y = np.random.rand(2, 20)\n",
    "scatt = bq.Scatter(x=x, y=y, scales={'x': xs, 'y': ys}, default_colors=['blue'])\n",
    "xax = bq.Axis(scale=xs, label='x', grid_lines='solid')\n",
    "yax = bq.Axis(scale=ys, orientation='vertical', tick_format='0.2f', label='y', grid_lines='solid')\n",
    "\n",
    "fig = bq.Figure(marks=[scatt], axes=[xax, yax], animation_duration=1000)\n",
    "display(fig)"
   ]
  },
  {
   "cell_type": "code",
   "execution_count": 15,
   "metadata": {
    "collapsed": true
   },
   "outputs": [],
   "source": [
    "#data updates\n",
    "scatt.x = np.random.rand(20) * 10\n",
    "scatt.y = np.random.rand(20)"
   ]
  },
  {
   "cell_type": "markdown",
   "metadata": {},
   "source": [
    "## The same holds for the attributes of scales, axes"
   ]
  },
  {
   "cell_type": "code",
   "execution_count": 43,
   "metadata": {
    "collapsed": true
   },
   "outputs": [],
   "source": [
    "xs.min = 4"
   ]
  },
  {
   "cell_type": "code",
   "execution_count": 44,
   "metadata": {
    "collapsed": true
   },
   "outputs": [],
   "source": [
    "xs.min = None"
   ]
  },
  {
   "cell_type": "code",
   "execution_count": 45,
   "metadata": {
    "collapsed": true
   },
   "outputs": [],
   "source": [
    "xax.label = 'Some label for the x axis'"
   ]
  },
  {
   "cell_type": "markdown",
   "metadata": {},
   "source": [
    "## Wiring bqplot widgets with other Jupyter widgets"
   ]
  },
  {
   "cell_type": "code",
   "execution_count": 46,
   "metadata": {
    "collapsed": true
   },
   "outputs": [],
   "source": [
    "size = 100\n",
    "x_data = np.random.randn(size)\n",
    "y_data = np.cumsum(np.random.randn(size)  * 100.0)\n",
    "color_data = np.cumsum(np.random.randn(size))\n",
    "rotation_data = np.sin(x_data * 0.1)"
   ]
  },
  {
   "cell_type": "code",
   "execution_count": 47,
   "metadata": {
    "collapsed": true
   },
   "outputs": [
    {
     "data": {
      "application/vnd.jupyter.widget": "e35e8b2ec6804c6082ec58cb98ecc372"
     },
     "metadata": {},
     "output_type": "display_data"
    }
   ],
   "source": [
    "from bqplot import *\n",
    "\n",
    "x_sc = bq.LinearScale()\n",
    "y_sc = bq.LinearScale()\n",
    "c_sc = bq.ColorScale()\n",
    "r_sc = bq.LinearScale()\n",
    "s_sc = bq.LinearScale()\n",
    "\n",
    "ax_x = bq.Axis(label='X Axis', scale=x_sc, grid_lines='solid')\n",
    "ax_y = bq.Axis(label='Y Axis', scale=y_sc, orientation='vertical', grid_lines='solid')\n",
    "ax_c = bq.ColorAxis(label='Color Scale', scale=c_sc, orientation='horizontal')\n",
    "\n",
    "scatter = bq.Scatter(x=x_data,\n",
    "                     y=y_data,\n",
    "                     color=color_data,\n",
    "                     rotation=rotation_data,\n",
    "                     marker='arrow',\n",
    "                     animate_dur=1000,\n",
    "                     default_size=100,\n",
    "                     scales={'x': x_sc, 'y': y_sc, 'color': c_sc, 'rotation': r_sc, 'size': s_sc})\n",
    "\n",
    "fig = bq.Figure(axes=[ax_x, ax_y, ax_c], marks=[scatter])\n",
    "\n",
    "# Wiring the rotation parameter with a slider\n",
    "def handle_slider(change):\n",
    "    new = change['new']\n",
    "    scatter.rotation = np.cos(10 * new * x_data)\n",
    "    scatter.size = np.sin(10 * new * x_data)\n",
    "\n",
    "handle_slider({'new': 0.5})\n",
    "slider = FloatSlider(value=0.5, min=0, max=1.0, step=0.01, description='Adjust rotation')\n",
    "slider.observe(handle_slider, names=['value'])\n",
    "\n",
    "VBox([fig, slider])"
   ]
  },
  {
   "cell_type": "markdown",
   "metadata": {},
   "source": [
    "## Use bqplot figures as input widgets"
   ]
  },
  {
   "cell_type": "code",
   "execution_count": 48,
   "metadata": {
    "collapsed": true
   },
   "outputs": [],
   "source": [
    "xs = bq.LinearScale()\n",
    "ys = bq.LinearScale()\n",
    "x = np.arange(100)\n",
    "y = np.cumsum(np.random.randn(2, 100), axis=1) #two random walks\n",
    "\n",
    "line = bq.Lines(x=x, y=y, scales={'x': xs, 'y': ys}, colors=['red', 'green'])\n",
    "xax = bq.Axis(scale=xs, label='x', grid_lines='solid')\n",
    "yax = bq.Axis(scale=ys, orientation='vertical', tick_format='0.2f', label='y', grid_lines='solid')"
   ]
  },
  {
   "cell_type": "markdown",
   "metadata": {},
   "source": [
    "## Selections"
   ]
  },
  {
   "cell_type": "code",
   "execution_count": 49,
   "metadata": {
    "collapsed": false
   },
   "outputs": [
    {
     "data": {
      "application/vnd.jupyter.widget": "c2ab048e4a1e48ebb2b030d0f74a0e9b"
     },
     "metadata": {},
     "output_type": "display_data"
    }
   ],
   "source": [
    "def interval_change_callback(change):\n",
    "    db.value = str(change['new'])\n",
    "\n",
    "intsel = bq.interacts.FastIntervalSelector(scale=xs, marks=[line])\n",
    "intsel.observe(interval_change_callback, names=['selected'] )\n",
    "\n",
    "db = widgets.Label()\n",
    "db.value = str(intsel.selected)\n",
    "display(db)"
   ]
  },
  {
   "cell_type": "code",
   "execution_count": 50,
   "metadata": {
    "collapsed": false
   },
   "outputs": [
    {
     "data": {
      "application/vnd.jupyter.widget": "554473802d794fc8aa2d94d09b5a6f8d"
     },
     "metadata": {},
     "output_type": "display_data"
    }
   ],
   "source": [
    "fig = bq.Figure(marks=[line], axes=[xax, yax], animation_duration=1000, interaction=intsel)\n",
    "display(fig)"
   ]
  },
  {
   "cell_type": "code",
   "execution_count": 51,
   "metadata": {
    "collapsed": false
   },
   "outputs": [
    {
     "data": {
      "text/plain": [
       "[]"
      ]
     },
     "execution_count": 51,
     "metadata": {},
     "output_type": "execute_result"
    }
   ],
   "source": [
    "line.selected"
   ]
  },
  {
   "cell_type": "markdown",
   "metadata": {},
   "source": [
    "# Handraw"
   ]
  },
  {
   "cell_type": "code",
   "execution_count": 52,
   "metadata": {
    "collapsed": false
   },
   "outputs": [],
   "source": [
    "handdraw = bq.interacts.HandDraw(lines=line)\n",
    "fig.interaction = handdraw"
   ]
  },
  {
   "cell_type": "code",
   "execution_count": 53,
   "metadata": {
    "collapsed": false
   },
   "outputs": [
    {
     "data": {
      "text/plain": [
       "array([-0.20035348, -1.9143996 , -1.42075551, -0.93374018, -1.77286959,\n",
       "       -0.7827482 , -2.14750643, -2.16937634, -2.44058368, -3.75775847,\n",
       "       -3.56805586, -1.8654857 , -1.79785147, -2.26087323, -1.81384907,\n",
       "       -1.70812908, -1.68036694, -2.10590916, -0.6839336 , -0.22757023,\n",
       "       -0.75624089, -0.86424473, -1.60511143, -2.21340258, -2.85412831,\n",
       "       -3.9884399 , -3.21116294, -3.5022044 , -2.94807682, -3.61820272,\n",
       "       -3.67856522, -4.38960581, -3.66993764, -3.91835695, -4.64923053,\n",
       "       -6.29093376, -6.01526721, -6.72365227, -6.73943148, -7.23116159,\n",
       "       -6.27697201, -5.73282726, -5.28561517, -5.90173629, -5.43544625,\n",
       "       -3.72061464, -4.55280068, -4.38046154, -6.02967851, -4.63111642,\n",
       "       -5.02902852, -4.24644964, -5.96967789, -4.1721385 , -4.52901003,\n",
       "       -3.98335271, -3.8325345 , -4.08800529, -2.40221298, -4.05025919,\n",
       "       -3.75154553, -2.84089986, -2.87075598, -2.98892676, -3.13161447,\n",
       "       -4.3592509 , -4.32112351, -3.80840599, -3.73980676, -4.01208286,\n",
       "       -4.50180788, -4.78110455, -3.52336034, -5.60999531, -5.56992386,\n",
       "       -5.89767878, -4.44187082, -4.3863786 , -2.901453  , -5.02534302,\n",
       "       -4.56575811, -4.28570025, -2.89516629, -4.53651489, -4.6915507 ,\n",
       "       -4.62549044, -5.12128594, -3.90470822, -4.24339041, -2.20862786,\n",
       "       -1.15444995, -0.20361626,  0.35568272, -0.70801287, -1.1391092 ,\n",
       "       -0.56635784,  0.1111992 ,  1.41838304,  0.95094203,  0.09078865])"
      ]
     },
     "execution_count": 53,
     "metadata": {},
     "output_type": "execute_result"
    }
   ],
   "source": [
    "line.y[0]"
   ]
  },
  {
   "cell_type": "markdown",
   "metadata": {},
   "source": [
    "# Moving points around"
   ]
  },
  {
   "cell_type": "code",
   "execution_count": 54,
   "metadata": {
    "collapsed": false
   },
   "outputs": [
    {
     "data": {
      "text/plain": [
       "<bqplot.marks.Label at 0x1182dbe10>"
      ]
     },
     "metadata": {},
     "output_type": "display_data"
    },
    {
     "data": {
      "application/vnd.jupyter.widget": "cf580148b32f4ea9a3a561a930efaeca"
     },
     "metadata": {},
     "output_type": "display_data"
    }
   ],
   "source": [
    "size = 100\n",
    "np.random.seed(0)\n",
    "x_data = range(size)\n",
    "y_data = np.cumsum(np.random.randn(size) * 100.0)\n",
    "\n",
    "## Enabling moving of points in scatter. Try to click and drag any of the points in the scatter and \n",
    "## notice the line representing the mean of the data update\n",
    "\n",
    "sc_x = LinearScale()\n",
    "sc_y = LinearScale()\n",
    "\n",
    "scat = Scatter(x=x_data[:10], y=y_data[:10], scales={'x': sc_x, 'y': sc_y}, default_colors=['blue'],\n",
    "               enable_move=True)\n",
    "lin = Lines(scales={'x': sc_x, 'y': sc_y}, stroke_width=4, line_style='dashed', colors=['orange'])\n",
    "m = Label(value='Mean is %s'%np.mean(scat.y))\n",
    "\n",
    "def update_line(change):\n",
    "    with lin.hold_sync():\n",
    "        lin.x = [np.min(scat.x), np.max(scat.x)]\n",
    "        lin.y = [np.mean(scat.y), np.mean(scat.y)]\n",
    "        m.value='Mean is %s'%np.mean(scat.y)\n",
    "        \n",
    "\n",
    "update_line(None)\n",
    "\n",
    "# update line on change of x or y of scatter\n",
    "scat.observe(update_line, names='x')\n",
    "scat.observe(update_line, names='y')\n",
    "\n",
    "ax_x = Axis(scale=sc_x)\n",
    "ax_y = Axis(scale=sc_y, tick_format='0.2f', orientation='vertical')\n",
    "\n",
    "fig = Figure(marks=[scat, lin], axes=[ax_x, ax_y])\n",
    "\n",
    "## In this case on drag, the line updates as you move the points.\n",
    "with scat.hold_sync():\n",
    "    scat.enable_move = True\n",
    "    scat.update_on_move = True\n",
    "    scat.enable_add = False\n",
    "\n",
    "display(m, fig)"
   ]
  },
  {
   "cell_type": "code",
   "execution_count": null,
   "metadata": {},
   "outputs": [],
   "source": []
  },
  {
   "cell_type": "code",
   "execution_count": null,
   "metadata": {},
   "outputs": [],
   "source": []
  },
  {
   "cell_type": "code",
   "execution_count": null,
   "metadata": {},
   "outputs": [],
   "source": []
  }
 ],
 "metadata": {
  "kernelspec": {
   "display_name": "Python 3",
   "language": "python",
   "name": "python3"
  },
  "language_info": {
   "codemirror_mode": {
    "name": "ipython",
    "version": 3
   },
   "file_extension": ".py",
   "mimetype": "text/x-python",
   "name": "python",
   "nbconvert_exporter": "python",
   "pygments_lexer": "ipython3",
   "version": "3.5.2"
  },
  "widgets": {
   "state": {
    "004061d52c324b47b9da03c3e61b8ee6": {
     "views": []
    },
    "02355f55061643a6a1e467820016c167": {
     "views": []
    },
    "02cdd479708e48ff8abcb66568c4f489": {
     "views": []
    },
    "05be39b7c1b4414e8be89849dc7f1a58": {
     "views": []
    },
    "05bf48252c7b41daab5da1f043a291f5": {
     "views": []
    },
    "06efb12c751546fca845aca1cda39217": {
     "views": []
    },
    "076b7cf3010747849a6b2349b0207ed2": {
     "views": []
    },
    "07dd187da9e1407d8253b7b1e341ba56": {
     "views": []
    },
    "084b0b5674e547f1913f3b5ac670ecbf": {
     "views": []
    },
    "08c398dcbc284e94ba7edac6e17ecbd0": {
     "views": []
    },
    "0904c132d27846568a074343f052dc74": {
     "views": []
    },
    "0af65425b82842938e50cc4fe6decab6": {
     "views": []
    },
    "0b490d722ac3409da22eb237634be525": {
     "views": []
    },
    "0d9b86a3d2be48dbba9d2a086f82ebc5": {
     "views": []
    },
    "0e3cc7e8993248f1bbbe4f1ebbb7e9b8": {
     "views": []
    },
    "0f5dcb5894954b6c9e4696f53fb02b73": {
     "views": []
    },
    "0fd4c5f047174f5cbf73eee5b6c6a41a": {
     "views": []
    },
    "11215616d4d4435b9bd860e2729a5847": {
     "views": [
      {
       "cell_index": 31
      }
     ]
    },
    "11886207adb04570af674413f49826a8": {
     "views": []
    },
    "12753332a74949f7a7d582500815e4a6": {
     "views": []
    },
    "12c618487cef465c849b8ed852c4886d": {
     "views": [
      {
       "cell_index": 37
      }
     ]
    },
    "1426313bc3b3432787c4e9045e4c8184": {
     "views": []
    },
    "14cafae4031e4499a55b6fa418123e22": {
     "views": []
    },
    "14ec442eb0a24b5da15c8aa94175f59e": {
     "views": [
      {
       "cell_index": 25
      }
     ]
    },
    "155479313a014df080867b2ac2aa95ab": {
     "views": []
    },
    "155ff19b46db4c4190cede52a6b76f88": {
     "views": []
    },
    "15ce575272fd48d2a975d6c99f1bfa76": {
     "views": []
    },
    "15e4c85cb0e3402ab890acecbe0a808f": {
     "views": []
    },
    "16183c3d9a2a490e87fdbf0a15df93bf": {
     "views": []
    },
    "179f13903b584a4dbd96921043767aab": {
     "views": []
    },
    "1960c3ddbf4a46b586efc823d743d811": {
     "views": []
    },
    "19de91bf85874939948950f21e2d0730": {
     "views": []
    },
    "1cd155d9f5a74db68c53b79b3655d504": {
     "views": []
    },
    "1cea5925d22149a78eb0c02bcda1be6e": {
     "views": []
    },
    "1d61b57b34ba4f6e81c67d83deaf98c2": {
     "views": [
      {
       "cell_index": 26
      }
     ]
    },
    "1dc2adb02854482ba650ce8f859dc5d1": {
     "views": []
    },
    "2228e8ffc4c34668a5505e01ddeb91c1": {
     "views": [
      {
       "cell_index": 17
      }
     ]
    },
    "226bf8bb3b294812abee5387a8be8c0d": {
     "views": []
    },
    "22c51bf7928c417481829c8203f67aab": {
     "views": []
    },
    "2326e3ecc09040558a40f3c437f8f7cd": {
     "views": []
    },
    "245b75cbb5a94d3a9a66514734c01b9b": {
     "views": []
    },
    "295116c036ab487cb37955f49407dc6d": {
     "views": []
    },
    "29adb9c1b06c40c8bac838008bf92a7f": {
     "views": []
    },
    "2abf1eec47794329bee758b8ce7c278d": {
     "views": []
    },
    "2bdb7c7c3e2e4321964ea6b5f2716db6": {
     "views": []
    },
    "2ec55eb6c8fd4970ba1322c6609084c5": {
     "views": []
    },
    "30f1b50ebb8743efa32dbc2e8f80f21d": {
     "views": []
    },
    "33a687ecc0854800989101922befc84f": {
     "views": []
    },
    "365767d97ae84c59b3f7a7e7de23776a": {
     "views": []
    },
    "383631ab6b7e48ae97ef40e6e52455a0": {
     "views": []
    },
    "3b0c50f2afe244c49c93e5278f9b24f4": {
     "views": []
    },
    "3b770d0666cb40c5a753b9a2cf64c388": {
     "views": []
    },
    "3d4014a35a7644f087004dce2529280d": {
     "views": []
    },
    "3e837a4961574ac98e46363c612c86c5": {
     "views": []
    },
    "3f8e8814ebc14a02b0ab2f8866aa55f8": {
     "views": []
    },
    "3fa48e43a4ac47c692747f4b6f4fad4b": {
     "views": []
    },
    "401b13a053d0472096ecaa8088a30373": {
     "views": []
    },
    "40512c97872849d7bec87dbd1aaa7256": {
     "views": []
    },
    "4161fa6e2e8c4524a06bcc71e12c525a": {
     "views": [
      {
       "cell_index": 30
      }
     ]
    },
    "4165dc01839b4b03a3ee1efa8fb777fe": {
     "views": []
    },
    "42293370b0d5407f824958dbad3f0242": {
     "views": []
    },
    "4268d065a47e44e39b4ad384effc1905": {
     "views": []
    },
    "439ad2ef7e144439bd1b44d32bcd9cad": {
     "views": []
    },
    "43bfe5018343423fad2ca0dec0b467be": {
     "views": []
    },
    "44f272651b0745daaebe81e7c6902240": {
     "views": [
      {
       "cell_index": 9
      }
     ]
    },
    "4562f96596204a4daf5fad7b55fc15ec": {
     "views": []
    },
    "4c1b9af5ba0d4439935a218b73f91171": {
     "views": []
    },
    "4c1e84b00d7c429d9221d1acf7fa469d": {
     "views": []
    },
    "4dbe390c399740fb9ea71b3b0b94a7d3": {
     "views": []
    },
    "4f91f5d362eb419498d34cf44258fd61": {
     "views": []
    },
    "502ca9ef88424c4e83aa05cc3f0dc181": {
     "views": []
    },
    "5123bcc956f540e6ba59068fe9f766bd": {
     "views": []
    },
    "52a467c5caac42438110aa28b8dab702": {
     "views": []
    },
    "53015d714bba4db58c44af33a5ee2224": {
     "views": []
    },
    "536a233970c94988bad4eb558c37107d": {
     "views": []
    },
    "53a51ff055aa449f9f115414bcbe38be": {
     "views": []
    },
    "58570e967f54452cbf65586bc57bba83": {
     "views": []
    },
    "59742cb07f94419187fa381aeca63c32": {
     "views": []
    },
    "59d81a4967934446a7ac92317f8fa00a": {
     "views": []
    },
    "59dae6ef17b1435cb872fe49e5826812": {
     "views": []
    },
    "5a5e42bf0ae4410dabb874496499c77d": {
     "views": []
    },
    "5b9ee869741648b4a8aa0025901fa8f1": {
     "views": []
    },
    "5c3c085838bc4213b239b85e2dd5ab23": {
     "views": []
    },
    "5dd5036c9003406a80ac136b7c4e25ea": {
     "views": []
    },
    "5f197527a75a46e2a501ceb058c2f737": {
     "views": []
    },
    "60e8b56341234d41aa0147a684d6ffd0": {
     "views": []
    },
    "6137ac5ddffd4d7d873ec48577055f91": {
     "views": []
    },
    "63547514e3b344bd9ade09a643d28f18": {
     "views": []
    },
    "639c21d80c04418787c9d324944939df": {
     "views": []
    },
    "6458518e4f694de48b7e36c2bbcb29ed": {
     "views": []
    },
    "64d0adfa871a43f4b2611b6d26214e65": {
     "views": []
    },
    "65c312ff025f4d3c92662aa5a7791865": {
     "views": []
    },
    "66ce316a05a4448588fede57ccf2cd30": {
     "views": []
    },
    "67b57a64b6214ee1ad39d1212f62b23e": {
     "views": []
    },
    "67e202f19e444ab49c5f9840b8da2156": {
     "views": []
    },
    "6afec42b377f4c219e9dd557babddfef": {
     "views": []
    },
    "6f6b5b2689a34f21bda87e41680b6e9d": {
     "views": []
    },
    "708046b902d7481a9512a4653da5d300": {
     "views": []
    },
    "7264932f0c664c0f924be2d7f028c293": {
     "views": []
    },
    "73066fdfc23e43d4a7a53831815194c0": {
     "views": []
    },
    "7400eb5862f3454884dbc17bbea51315": {
     "views": []
    },
    "74156ef0041c461682e4c3ddb2499034": {
     "views": []
    },
    "7447b0d2675e45efbd84b18257f06127": {
     "views": []
    },
    "74da7e33863e487583ed6fed8fe1b739": {
     "views": []
    },
    "7518e14057a64674bfffcc43d9f164cd": {
     "views": []
    },
    "769bf18a489c43b9ae167f037b8637e8": {
     "views": []
    },
    "7750AE7610A5445A918383C8BEE9B8DD": {
     "views": []
    },
    "778afd6f709249c09a21cd40566af09e": {
     "views": []
    },
    "78ded67feb6143dfae3e79f51bf0fba0": {
     "views": []
    },
    "7ac34b7455314a2daa2a5ec62d7471d6": {
     "views": []
    },
    "7ba6bc1c8e024578b8778978473282b8": {
     "views": []
    },
    "7d2e585cd8ba49ed941399d93926dabf": {
     "views": []
    },
    "7db62223315d4bd48beeea225add9f4b": {
     "views": []
    },
    "7e015fdc125345428a0fb09f4c8c006a": {
     "views": []
    },
    "7eef95d4e6c74118aa80d14e5deecc5f": {
     "views": []
    },
    "810e13fc47284dfc95d4e95a2cef2681": {
     "views": []
    },
    "829c15a413ec4ef99b4198aa65ed6b70": {
     "views": []
    },
    "83f3b1f767cc4ecda2a370e8aa8a2ea3": {
     "views": []
    },
    "84256f7f7f24455280024d8f32e3b093": {
     "views": []
    },
    "8450b530b586431d838955ee7d2f2d67": {
     "views": []
    },
    "8699daa8b29b4bd783862930b0ae4412": {
     "views": []
    },
    "86f2ff2a81e649608f4a3be8328cc06b": {
     "views": []
    },
    "8752f568719d4c1d826a92aff532fc5f": {
     "views": []
    },
    "87787fd5a3fa4adca87be369c6086120": {
     "views": []
    },
    "88dc00bdf55047149f61592f5cb67f22": {
     "views": []
    },
    "891fc089eb304fc4b6f3e7acd698a32b": {
     "views": []
    },
    "8ac0426425044ef9b5284853265d0d33": {
     "views": []
    },
    "8d4cd0e793a043aa9470ebde5417ddb4": {
     "views": []
    },
    "8db164ec0184459ea64794f2b664c15d": {
     "views": []
    },
    "8e396aa3f4c24e28a16bd0c0e3bfa8bb": {
     "views": []
    },
    "8e6e772958d040bcb0d2f47670a417d4": {
     "views": []
    },
    "916A3C210BAD43389D71024CA3AB97AF": {
     "views": []
    },
    "93d66f92dec645b594872d39e5c8db8c": {
     "views": []
    },
    "946921e65a48480394ee83c50dbb7772": {
     "views": []
    },
    "952d93f222d54f25b3f90b706d2258a5": {
     "views": []
    },
    "96b73f28bf1f4a4f8dbdc3e328bd43bc": {
     "views": []
    },
    "97c98d6d71134ef8a74895a8850d198d": {
     "views": []
    },
    "98250342602e45e2b73a0cc2cab7753a": {
     "views": []
    },
    "9896a7f87913489c9b2cc1002c076b64": {
     "views": []
    },
    "99555a4062d34347afe03471f4ca0661": {
     "views": []
    },
    "9b6bf5ef75034e889a09ead7a971306a": {
     "views": []
    },
    "9b6ef1fb895a4b60a2eb080a170e1cab": {
     "views": []
    },
    "9d7491e1e54d4cd88e1999b575320ba2": {
     "views": []
    },
    "9edcc30d79f6444790352e734bfa0430": {
     "views": []
    },
    "a046fe58a206413d8512585afeb3d8ef": {
     "views": []
    },
    "a111c42ca3c6422b84fce15282cc9426": {
     "views": []
    },
    "a224581330be4e7ca53c24b12f2acd85": {
     "views": []
    },
    "a29347b9de1440e49aa74f6a725446ec": {
     "views": []
    },
    "a2e4132cc7ee4e329334a4cd7462dff7": {
     "views": []
    },
    "a3468e6c54b94081986252dc496c9a39": {
     "views": []
    },
    "a34853d5d23747f38d12bd7fb2c21af4": {
     "views": []
    },
    "a453ea62cf8c4c24a21adfb5213275c0": {
     "views": []
    },
    "a457b7b0468344c092f29d7f63ad5614": {
     "views": []
    },
    "a579989908364c2d84bff60fae6d646e": {
     "views": []
    },
    "a787efb2543745cdba09f12a4c93f151": {
     "views": []
    },
    "a8ca0bfe59ad4f7c8c2cdbca7b78a19f": {
     "views": []
    },
    "a907cb1a3b6b437395012a89a83fe797": {
     "views": []
    },
    "aa53ba0be3f14dc2b84868208237b8b8": {
     "views": []
    },
    "aa92e88f6ea54084a87bf834d7a37392": {
     "views": []
    },
    "ac2d2f42413b4314bfd197be611985ae": {
     "views": []
    },
    "ac7fdbdd37ce4e4c93a6426fb14dc95e": {
     "views": []
    },
    "ad98c0db9cf14e488a7d147d0c9b9481": {
     "views": []
    },
    "ad9c0044ba5043bb8415aadd36c4bd1d": {
     "views": []
    },
    "afbcba87ad574f7c822ad5298a97273f": {
     "views": []
    },
    "b02f306c3f5c4d05ba23bbd8fccfdcf2": {
     "views": []
    },
    "b594e535a686410088f3e45a1b05db54": {
     "views": []
    },
    "b5e600cedc664b1abf921be142a3eb75": {
     "views": [
      {
       "cell_index": 7
      }
     ]
    },
    "b5f1e6a88a8240aeafc915ac05e6849f": {
     "views": []
    },
    "b6d8a4edd4c449d09834677e418b6214": {
     "views": []
    },
    "b7931ff36c4d490d913b5cc48d3eed0f": {
     "views": []
    },
    "b91cdcff05b04010a8f5d2053bf0b751": {
     "views": []
    },
    "ba6f63c82eed4e41adee0d7ebd76f0bc": {
     "views": []
    },
    "ba8422b9fc214cb28fdb843370a09117": {
     "views": []
    },
    "ba9b66fb3a594280a70ed32ade4ae7b9": {
     "views": []
    },
    "bb85fa52ca9c4c20978529003e049320": {
     "views": []
    },
    "bb9709be61504cbe87f494b140711b5a": {
     "views": []
    },
    "bbbf266aa6384969a62570fe229994d6": {
     "views": []
    },
    "be0e72936aff4a9daa9e0c10b794b04b": {
     "views": []
    },
    "bee9c4bb4c004860bdfc25c07db583c5": {
     "views": []
    },
    "c2f587e1d9fd45aeb5903fc73528f525": {
     "views": []
    },
    "c3591d34e5d147758878e16e5bda6b6c": {
     "views": []
    },
    "c388fa753cc44f0798aff42246e8d615": {
     "views": []
    },
    "c39c066c362849caa3e4e6b236c52132": {
     "views": [
      {
       "cell_index": 5
      }
     ]
    },
    "c476700da487419b865d7af57c2d6913": {
     "views": []
    },
    "c5173a3cbd9748c1b6690435f7274639": {
     "views": []
    },
    "c5a158b876b846fdb31de346f4accf93": {
     "views": []
    },
    "c6327cc1c1c34b41b344223344eacec6": {
     "views": []
    },
    "c718b6dfc7fb4993858dbeee1cd85250": {
     "views": []
    },
    "c8e1ef3574a6439ca2f8f2d6712c40b9": {
     "views": []
    },
    "c91bb07f8077412cbda82fa5426a41e2": {
     "views": []
    },
    "cb7acbc3c8a749b794b7224994fa26d7": {
     "views": []
    },
    "cc8c2d2fc5f1459cb3467fa5ccdbf3ed": {
     "views": []
    },
    "cda455c185b549f6ade64742369bbd3a": {
     "views": []
    },
    "cdfaec81894147619c2a026974ebbbb2": {
     "views": []
    },
    "cf208848f43348639feaaab4fb213099": {
     "views": []
    },
    "d07755491c2c4c94977fe1e20ec9d59f": {
     "views": []
    },
    "d11d8be5cea64650ad9e6eea2563e324": {
     "views": []
    },
    "d150a0f7f6a44056be43bbd857719186": {
     "views": [
      {
       "cell_index": 13
      }
     ]
    },
    "d2574d8366ed4a08b602617de7f14c5e": {
     "views": []
    },
    "d45a1675dc6c49cc969e9255899e860b": {
     "views": []
    },
    "d4bbc05a1e9d4376b383e57e9281fb98": {
     "views": []
    },
    "d8a138de8175462581daab35ca6cc481": {
     "views": []
    },
    "da5d4661ddfd4c12a87abea83b797ba0": {
     "views": []
    },
    "da9ca9c09b8d4e22a1c1e8a3b6d201fd": {
     "views": []
    },
    "db2bd427fb634734856a9475f6037462": {
     "views": []
    },
    "dc05294675fc4d2b8ea807640aa551bd": {
     "views": []
    },
    "dc257e58b5d34130a8365f52131c1568": {
     "views": []
    },
    "dca944be6208496ea299f77447167ce5": {
     "views": []
    },
    "dcb499990a404a97ad0d597a530640de": {
     "views": []
    },
    "dd3ce15afb004455b1934329200b5991": {
     "views": []
    },
    "df6b0044a5094667ace7d570f4c9c7db": {
     "views": []
    },
    "e04e60536f1c4f67944873de24bf4791": {
     "views": []
    },
    "e540999cb63f4bf4a624c4857dc0c6c2": {
     "views": []
    },
    "e901e8825b7448f2995f0422cc0ecbd7": {
     "views": []
    },
    "e91f90e10c594b3d953c3cb94438c66a": {
     "views": []
    },
    "ea1c09578a834608b6e708ed06eb1ecc": {
     "views": []
    },
    "eab6632e7f7344958d8b2d136d712e3f": {
     "views": []
    },
    "ec41d01c4566434a830db9baa18f8ffa": {
     "views": []
    },
    "ec693841661c437fb1913864a9f79ddc": {
     "views": []
    },
    "ecfabb9fee134bd49bfdd9e69f28b596": {
     "views": []
    },
    "edb3412175714592a7e738263eb4b075": {
     "views": []
    },
    "ee49216c49fc4d69a01b97b218fbeb9c": {
     "views": []
    },
    "eef36df413314dd3afc07745e3d283aa": {
     "views": []
    },
    "ef1b059de6e14aedaa7be8d1b6fafb89": {
     "views": []
    },
    "efa11acfe82c4c60afa4223c66f51f00": {
     "views": []
    },
    "f04f557935db4fa9900844462f94b6b4": {
     "views": []
    },
    "f0dd4c1091174e3fafe416743b86d646": {
     "views": [
      {
       "cell_index": 15
      }
     ]
    },
    "f24144f1656445c6a71b145d2127effd": {
     "views": []
    },
    "f4d435ed66024b1a94ee0eddc59f8365": {
     "views": []
    },
    "f53920a39af945bea21cebe77cdb86a1": {
     "views": []
    },
    "f84b46a1f87f4079acbc64570e60901f": {
     "views": []
    },
    "f91e2aae642644aa815298ad35b0cb8c": {
     "views": []
    },
    "fa1f61f9b7c842a8950a8f34932489dc": {
     "views": []
    },
    "fa5a7356fea945078892f9c70f0db420": {
     "views": []
    },
    "faa2d631a0d3424b8bc4afde7ad17511": {
     "views": []
    },
    "fb98ed6722544351ad2bc9fa2175362e": {
     "views": []
    },
    "ff15755e5a6d485792b0b80a79c0bc25": {
     "views": []
    },
    "ff6f8b46219c4c9fada2f76621ce134f": {
     "views": []
    }
   },
   "version": "1.1.2"
  }
 },
 "nbformat": 4,
 "nbformat_minor": 1
}
